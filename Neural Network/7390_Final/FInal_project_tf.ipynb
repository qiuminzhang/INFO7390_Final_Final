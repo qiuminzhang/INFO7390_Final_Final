{
 "cells": [
  {
   "cell_type": "markdown",
   "metadata": {},
   "source": [
    "## TensorFlow Installation\n",
    "**TensorFlow works on windows environments which only meeting these requirements:**<br/>\n",
    "* 64-bit, x86 desktops or laptops\n",
    "* Windows 7 or later<br/>\n",
    "\n"
   ]
  },
  {
   "cell_type": "markdown",
   "metadata": {},
   "source": [
    "**This project use TensorFlow with CPU support**<br/>\n",
    "#### Installing with Anaconda\n",
    "1. Follow the instructions on the [Anaconda download](https://www.anaconda.com/download/) site to download and install Anaconda.\n",
    "2. Create a conda environment named tensorflow by invoking the following command:\n",
    "```\n",
    "C:> conda create -n tensorflow pip python=3.5 \n",
    "```\n",
    "3. Activate the conda environment by issuing the following command:\n",
    "```\n",
    "C:> activate tensorflow\n",
    " (tensorflow)C:>  # Your prompt should change \n",
    "```\n",
    "4. Issue the appropriate command to install TensorFlow inside your conda environment. To install the CPU-only version of TensorFlow, enter the following command:\n",
    "```\n",
    "(tensorflow)C:> pip install --ignore-installed --upgrade tensorflow\n",
    "```"
   ]
  },
  {
   "cell_type": "code",
   "execution_count": null,
   "metadata": {
    "collapsed": true
   },
   "outputs": [],
   "source": [
    "from keras.preprocessing.image import ImageDataGenerator\n",
    "from keras.wrappers.scikit_learn import KerasRegressor\n",
    "from sklearn.preprocessing import LabelEncoder\n",
    "import os\n",
    "import tensorflow as tf\n",
    "import numpy as np\n",
    "import matplotlib.pyplot as plt"
   ]
  },
  {
   "cell_type": "markdown",
   "metadata": {},
   "source": [
    "**Predifine size of input images **"
   ]
  },
  {
   "cell_type": "code",
   "execution_count": 2,
   "metadata": {
    "collapsed": true
   },
   "outputs": [],
   "source": [
    "training_path='./dataset_merged/training'\n",
    "validation_path='./dataset_merged/validation'\n",
    "img_h = 224\n",
    "img_w = 224"
   ]
  },
  {
   "cell_type": "markdown",
   "metadata": {},
   "source": [
    "**Read image files and labels from local directory. Then one-hot encode the labels.**<br/>\n",
    "**Use a one-hot encoding on categorical data.<br/>**\n",
    "<p>For categorical variables where no such ordinal relationship exists, the integer encoding is not enough.<p/>\n",
    "<p>In fact, using this encoding and allowing the model to assume a natural ordering between categories may result in poor performance or unexpected results (predictions halfway between categories).<p/>"
   ]
  },
  {
   "cell_type": "code",
   "execution_count": 3,
   "metadata": {
    "collapsed": true
   },
   "outputs": [],
   "source": [
    "def load_data(path):\n",
    "    directories = [d for d in os.listdir(path) \n",
    "                       if os.path.isdir(os.path.join(path, d))]\n",
    "    imgs=[]\n",
    "    labels=[]\n",
    "    for d in directories:\n",
    "        label_directory = os.path.join(training_path, d)\n",
    "        file_names = [os.path.join(label_directory, f) \n",
    "                      for f in os.listdir(label_directory) \n",
    "                      if f.endswith(\".jpg\")]\n",
    "        for f in file_names:\n",
    "            imgs.append(f)\n",
    "            labels.append(d)\n",
    "    # One_hot encode the labels\n",
    "    LE=LabelEncoder()\n",
    "    labels=LE.fit_transform(labels)\n",
    "    labels=np.eye(7)[np.array([labels]).reshape(-1)]\n",
    "    return imgs,labels"
   ]
  },
  {
   "cell_type": "markdown",
   "metadata": {},
   "source": [
    "**Load training set and validation set.**<br/>\n",
    "<p>Differences and connections between training set, validation set and testing set:<p/>\n",
    "* Validation set is a part of training set.\n",
    "* Both validations et and traning set are labeled.\n",
    "* Testing set is the set without labels."
   ]
  },
  {
   "cell_type": "code",
   "execution_count": 5,
   "metadata": {
    "collapsed": true
   },
   "outputs": [],
   "source": [
    "train_imgs,train_labels=load_data(training_path)\n",
    "test_imgs,test_labels=load_data(validation_path)"
   ]
  },
  {
   "cell_type": "markdown",
   "metadata": {},
   "source": [
    "**Define hyperparameters**\n",
    "<p>Learning Rate: Learning is one used to update gradient and between 0.01 to 0.001.<p/>\n",
    "<p>Epoch: Epoch is the times your data go over the whole model. If you have epoch 10, inputs will go over the whole model for 10 times.<p/>\n",
    "<p>Batch siza: Total number of training examples present in a single batch.<p/>"
   ]
  },
  {
   "cell_type": "code",
   "execution_count": 6,
   "metadata": {
    "collapsed": true
   },
   "outputs": [],
   "source": [
    "learning_rate = 0.0001\n",
    "epochs = 2\n",
    "batch_size = 32"
   ]
  },
  {
   "cell_type": "markdown",
   "metadata": {},
   "source": [
    "**This method is to decode image files and labels into tensors in order to be fed into tensorflow session.**"
   ]
  },
  {
   "cell_type": "code",
   "execution_count": 7,
   "metadata": {
    "collapsed": true
   },
   "outputs": [],
   "source": [
    "from tensorflow.python.framework import ops\n",
    "\n",
    "def read_data(imgs,labels):\n",
    "    image_path_tf = ops.convert_to_tensor(imgs, dtype=tf.string, name=\"image_paths_tf\")\n",
    "    labels_tf = ops.convert_to_tensor(labels, dtype=tf.int32, name=\"labels_tf\")\n",
    "    image_name_tf, label_tf = tf.train.slice_input_producer([image_path_tf, labels_tf],shuffle=True)\n",
    "    image_buffer_tf = tf.read_file(image_name_tf, name=\"image_buffer\")\n",
    "    image = tf.image.decode_jpeg(image_buffer_tf, channels=3)    \n",
    "    global img_h,img_w\n",
    "    # Resize the images\n",
    "    image = tf.image.resize_image_with_crop_or_pad(image, img_h, img_w)\n",
    "    \n",
    "    # Cast types to float32\n",
    "    return tf.cast(image,tf.float32),tf.cast(label_tf,tf.float32)"
   ]
  },
  {
   "cell_type": "markdown",
   "metadata": {},
   "source": [
    "**Call read_data() and decode the train and test set**"
   ]
  },
  {
   "cell_type": "code",
   "execution_count": 8,
   "metadata": {
    "collapsed": true
   },
   "outputs": [],
   "source": [
    "train_imgs_tf, train_labels_tf=read_data(train_imgs, train_labels)\n",
    "test_imgs_tf, test_labels_tf=read_data(test_imgs, test_labels)"
   ]
  },
  {
   "cell_type": "markdown",
   "metadata": {},
   "source": [
    "**Create shuffle batch for train and test set**\n",
    "<p>Test data willbe size 500.<p/>"
   ]
  },
  {
   "cell_type": "code",
   "execution_count": 9,
   "metadata": {},
   "outputs": [
    {
     "name": "stdout",
     "output_type": "stream",
     "text": [
      "Batch shape:  (32, 224, 224, 3)\n",
      "Label shape:  (32, 7)\n"
     ]
    }
   ],
   "source": [
    "num_preprocess_threads = 3\n",
    "min_queue_examples = 3 * batch_size\n",
    "\n",
    "train_data = tf.train.shuffle_batch(\n",
    "    [train_imgs_tf, train_labels_tf],\n",
    "    batch_size=batch_size,\n",
    "    num_threads=num_preprocess_threads,\n",
    "    capacity=min_queue_examples + 3 * batch_size,\n",
    "    min_after_dequeue=min_queue_examples,\n",
    "    name=\"train_images\")\n",
    "\n",
    "# Test data will be size 500.\n",
    "test_data = tf.train.shuffle_batch(\n",
    "    [test_imgs_tf, test_labels_tf],\n",
    "    batch_size=500,\n",
    "    num_threads=num_preprocess_threads,\n",
    "    capacity=min_queue_examples + 1 * batch_size,\n",
    "    min_after_dequeue=min_queue_examples,\n",
    "    name=\"test_images\")\n",
    "\n",
    "print('Batch shape: ', train_data[0].shape)     # This is the shape of input into neural network.\n",
    "print('Label shape: ', train_data[1].shape)     # This is the shaoe of output that we want."
   ]
  },
  {
   "cell_type": "markdown",
   "metadata": {},
   "source": [
    "**Declare the training data placeholders**\n",
    "<p>Placeholders:<p/>\n",
    "Placeholders are used to feed data from outside the model."
   ]
  },
  {
   "cell_type": "code",
   "execution_count": 9,
   "metadata": {
    "collapsed": true
   },
   "outputs": [],
   "source": [
    "x = tf.placeholder(tf.float32, [None,img_w,img_h,3],name='raw_input')\n",
    "y = tf.placeholder(tf.float32, [None, 7], name='output')\n",
    "\n",
    "# Add input images into summary, it will be written into tensorboard in a running tf.session.\n",
    "tf.summary.image('input_img', x)"
   ]
  },
  {
   "cell_type": "markdown",
   "metadata": {},
   "source": [
    "**Building conv layer**\n",
    "<p>Setup the filter input shape for conv layer<p/>\n",
    "<p>Initialise weights and bias for the filter<p/>\n",
    "<p>Setup the convolutional layer operation<p/>\n",
    "<p>Apply a ReLU non-linear activation<p/>\n",
    "<p>Add these parameters into summary<p/>"
   ]
  },
  {
   "cell_type": "code",
   "execution_count": 10,
   "metadata": {
    "collapsed": true
   },
   "outputs": [],
   "source": [
    "from tensorflow.python.framework.dtypes import float32\n",
    "\n",
    "\n",
    "def conv(input, in_shape, out_shape, filter_shape, name='conv'):\n",
    "    with tf.name_scope(name):   # To clean the tensorflow graph\n",
    "        \n",
    "        # setup the filter input shape for conv layer\n",
    "        conv_filt_shape = [filter_shape[0], filter_shape[1], in_shape, out_shape]\n",
    "    \n",
    "        # initialise weights and bias for the filter\n",
    "        weights = tf.Variable(tf.truncated_normal(conv_filt_shape, stddev=0.3), name=name+'_w')\n",
    "        bias = tf.Variable(tf.constant(0.1,shape=[out_shape]), name=name+'_b')\n",
    "    \n",
    "        # setup the convolutional layer operation\n",
    "        _ = tf.nn.conv2d(input, weights, [1, 1, 1, 1], padding='SAME')      \n",
    "        \n",
    "        # apply a ReLU non-linear activation\n",
    "        act=tf.nn.relu(_+bias)\n",
    "        \n",
    "        # Add these parameters into summary\n",
    "        tf.summary.histogram('weights',weights)\n",
    "        tf.summary.histogram('bias',bias)\n",
    "        tf.summary.histogram('actications',act)\n",
    "         \n",
    "        return act"
   ]
  },
  {
   "cell_type": "markdown",
   "metadata": {},
   "source": [
    "**Building fully connected layer**"
   ]
  },
  {
   "cell_type": "code",
   "execution_count": 11,
   "metadata": {
    "collapsed": true
   },
   "outputs": [],
   "source": [
    "\n",
    "def fc(input, in_shape, out_shape, name='conv'):\n",
    "    with tf.name_scope(name):\n",
    "        \n",
    "        # They're all initialized with zeros\n",
    "        weights = tf.Variable(tf.zeros([in_shape, out_shape]), name=name+'_w')\n",
    "        bias = tf.Variable(tf.zeros([out_shape]), name=name+'_b')      \n",
    "        return tf.matmul(input, weights)+bias"
   ]
  },
  {
   "cell_type": "markdown",
   "metadata": {},
   "source": [
    "**Build a simple CNN using the method defined before**\n",
    "<p>This neural network contains 2 conv-pooling structures and 2 fully connected layers.<p/>"
   ]
  },
  {
   "cell_type": "code",
   "execution_count": 12,
   "metadata": {
    "collapsed": true
   },
   "outputs": [],
   "source": [
    "# First conv layer\n",
    "conv1 = conv(x, 3, 32, [5, 5],name='conv1')\n",
    "pool1= tf.nn.max_pool(conv1, [1,2,2,1], [1,2,2,1], padding='SAME', name='pool1')\n",
    "tf.summary.image('conv1_output',tf.expand_dims(pool1[:,:,:,0],axis=-1),max_outputs=3)\n",
    "\n",
    "# Second conv layer\n",
    "conv2 = conv(pool1, 32, 64, [5, 5],name='conv2')\n",
    "pool2= tf.nn.max_pool(conv2, [1,2,2,1], [1,2,2,1], padding='SAME', name='pool2')\n",
    "\n",
    "# Flattern the output of conv layers\n",
    "flattened = tf.reshape(pool2, [-1, 56 * 56 * 64])\n",
    "\n",
    "# Go through 2 fc layers\n",
    "fc1 = fc(flattened, 56*56*64, 1000, name='fc1')\n",
    "fc2 = fc(fc1, 1000, 7, name='fc2')"
   ]
  },
  {
   "cell_type": "markdown",
   "metadata": {},
   "source": [
    "**Define metrics and optimizer**\n",
    "<p>Loss Function:<p/>\n",
    "We use sigmoid here to calculate loss. \n",
    "   <p>Sigmoid:<p/>\n",
    "    <p>Sigmoid returns value from 0 to -1.<p/>\n",
    "<br/>\n",
    "<p>Optimizer:</p>\n",
    "<p>The goal of optimization is to find W that minimizes the loss function. We will now motivate and slowly develop an approach to optimizing the loss function.<p/>\n"
   ]
  },
  {
   "cell_type": "code",
   "execution_count": 13,
   "metadata": {},
   "outputs": [
    {
     "data": {
      "text/plain": [
       "<tf.Tensor 'accuracy:0' shape=() dtype=string>"
      ]
     },
     "execution_count": 13,
     "metadata": {},
     "output_type": "execute_result"
    }
   ],
   "source": [
    "# Define loss function\n",
    "loss = tf.reduce_mean(tf.nn.sigmoid_cross_entropy_with_logits(logits=fc2, labels=y),name='loss')\n",
    "tf.summary.scalar('loss', loss)\n",
    "\n",
    "# add an optimizer\n",
    "optimizer = tf.train.AdadeltaOptimizer(learning_rate=learning_rate,name='optmz').minimize(loss)\n",
    "\n",
    "# define an accuracy assessment operation\n",
    "correct_prediction = tf.equal(tf.argmax(fc2, 1), tf.argmax(y, 1))\n",
    "accuracy = tf.reduce_mean(tf.cast(correct_prediction, tf.float32),name='acc')\n",
    "tf.summary.scalar('accuracy', accuracy)"
   ]
  },
  {
   "cell_type": "markdown",
   "metadata": {},
   "source": [
    "**Test block 1. To check the output of pool1 layer.**"
   ]
  },
  {
   "cell_type": "code",
   "execution_count": 14,
   "metadata": {},
   "outputs": [
    {
     "data": {
      "image/png": "[encoded data removed]",
      "text/plain": [
       "<matplotlib.figure.Figure at 0x11c7c7588>"
      ]
     },
     "metadata": {},
     "output_type": "display_data"
    },
    {
     "data": {
      "image/png": "[encoded data removed]",
      "text/plain": [
       "<matplotlib.figure.Figure at 0x1de3cf240>"
      ]
     },
     "metadata": {},
     "output_type": "display_data"
    },
    {
     "data": {
      "image/png": "[encoded data removed]",
      "text/plain": [
       "<matplotlib.figure.Figure at 0x1dd5caf60>"
      ]
     },
     "metadata": {},
     "output_type": "display_data"
    }
   ],
   "source": [
    "init_op = (tf.global_variables_initializer(), tf.local_variables_initializer())\n",
    "\n",
    "\n",
    "with tf.Session() as sess:\n",
    "    sess.run(init_op)\n",
    "    coord = tf.train.Coordinator()\n",
    "    threads = tf.train.start_queue_runners(coord=coord)\n",
    "    \n",
    "    # Get output of pool1\n",
    "    out=sess.run(pool1,feed_dict={x:train_data[0].eval(), y:train_data[1].eval()})\n",
    "    fig=plt.figure(figsize=(8, 4))\n",
    "    \n",
    "    for i in range(3):\n",
    "        fig.add_subplot(8, 4, i+1)\n",
    "        plt.imshow(out[0,:,:,i])\n",
    "        plt.show()\n",
    "    \n",
    "    coord.request_stop()\n",
    "    coord.join(threads)"
   ]
  },
  {
   "cell_type": "markdown",
   "metadata": {},
   "source": [
    "**Test block 2. To check the output of pool2 layer.**"
   ]
  },
  {
   "cell_type": "code",
   "execution_count": 15,
   "metadata": {},
   "outputs": [
    {
     "data": {
      "image/png": "[encoded data removed]",
      "text/plain": [
       "<matplotlib.figure.Figure at 0x11c4d33c8>"
      ]
     },
     "metadata": {},
     "output_type": "display_data"
    },
    {
     "data": {
      "image/png": "[encoded data removed]",
      "text/plain": [
       "<matplotlib.figure.Figure at 0x115c9cd30>"
      ]
     },
     "metadata": {},
     "output_type": "display_data"
    },
    {
     "data": {
      "image/png": "[encoded data removed]",
      "text/plain": [
       "<matplotlib.figure.Figure at 0x1ebd882e8>"
      ]
     },
     "metadata": {},
     "output_type": "display_data"
    }
   ],
   "source": [
    "init_op = (tf.global_variables_initializer(), tf.local_variables_initializer())\n",
    "\n",
    "\n",
    "with tf.Session() as sess:\n",
    "    sess.run(init_op)\n",
    "    coord = tf.train.Coordinator()\n",
    "    threads = tf.train.start_queue_runners(coord=coord)\n",
    "    \n",
    "    # Get output of pool2\n",
    "    out=sess.run(pool2,feed_dict={x:train_data[0].eval(), y:train_data[1].eval()})\n",
    "    fig=plt.figure(figsize=(8, 4))\n",
    "    \n",
    "    for i in range(3):\n",
    "        fig.add_subplot(8, 4, i+1)\n",
    "        plt.imshow(out[0,:,:,i])\n",
    "        plt.show()\n",
    "    \n",
    "    coord.request_stop()\n",
    "    coord.join(threads)"
   ]
  },
  {
   "cell_type": "markdown",
   "metadata": {},
   "source": [
    "**Train the network.**"
   ]
  },
  {
   "cell_type": "code",
   "execution_count": 15,
   "metadata": {
    "collapsed": true
   },
   "outputs": [
    {
     "name": "stdout",
     "output_type": "stream",
     "text": [
      "Training started...\n",
      "Epoch:  1\n",
      "Step:  0  loss:  0.6931471 train accuracy:  0.34375\n",
      "Step:  20  loss:  0.6931468 train accuracy:  0.25\n",
      "Step:  40  loss:  0.69314635 train accuracy:  0.21875\n",
      "Step:  60  loss:  0.69314617 train accuracy:  0.25\n",
      "Step:  80  loss:  0.6931459 train accuracy:  0.21875\n",
      "Step:  100  loss:  0.69314545 train accuracy:  0.1875\n",
      "Step:  120  loss:  0.6931449 train accuracy:  0.46875\n",
      "Step:  140  loss:  0.6931448 train accuracy:  0.21875\n",
      "Step:  160  loss:  0.6931444 train accuracy:  0.28125\n",
      "Step:  180  loss:  0.6931439 train accuracy:  0.4375\n",
      "Step:  200  loss:  0.6931434 train accuracy:  0.40625\n",
      "Step:  220  loss:  0.6931433 train accuracy:  0.21875\n",
      "\n",
      "Epoch: 1 cost = 0.000\n",
      "Epoch:  2\n",
      "Step:  0  loss:  0.6931428 train accuracy:  0.34375\n",
      "Step:  20  loss:  0.6931424 train accuracy:  0.28125\n",
      "Step:  40  loss:  0.69314194 train accuracy:  0.40625\n",
      "Step:  60  loss:  0.6931418 train accuracy:  0.28125\n",
      "INFO:tensorflow:Error reported to Coordinator: <class 'tensorflow.python.framework.errors_impl.CancelledError'>, Enqueue operation was cancelled\n",
      "\t [[Node: train_images/random_shuffle_queue_enqueue = QueueEnqueueV2[Tcomponents=[DT_UINT8, DT_INT32], timeout_ms=-1, _device=\"/job:localhost/replica:0/task:0/device:CPU:0\"](train_images/random_shuffle_queue, resize_image_with_crop_or_pad/Squeeze, input_producer/Gather_1)]]\n"
     ]
    },
    {
     "ename": "KeyboardInterrupt",
     "evalue": "",
     "output_type": "error",
     "traceback": [
      "\u001b[0;31m---------------------------------------------------------------------------\u001b[0m",
      "\u001b[0;31mKeyboardInterrupt\u001b[0m                         Traceback (most recent call last)",
      "\u001b[0;32m<ipython-input-15-651f58637590>\u001b[0m in \u001b[0;36m<module>\u001b[0;34m()\u001b[0m\n\u001b[1;32m     18\u001b[0m \u001b[0;34m\u001b[0m\u001b[0m\n\u001b[1;32m     19\u001b[0m         \u001b[0;32mfor\u001b[0m \u001b[0mi\u001b[0m \u001b[0;32min\u001b[0m \u001b[0mrange\u001b[0m\u001b[0;34m(\u001b[0m\u001b[0mtotal_batch\u001b[0m\u001b[0;34m)\u001b[0m\u001b[0;34m:\u001b[0m\u001b[0;34m\u001b[0m\u001b[0m\n\u001b[0;32m---> 20\u001b[0;31m             \u001b[0msess\u001b[0m\u001b[0;34m.\u001b[0m\u001b[0mrun\u001b[0m\u001b[0;34m(\u001b[0m\u001b[0moptimizer\u001b[0m\u001b[0;34m,\u001b[0m \u001b[0mfeed_dict\u001b[0m\u001b[0;34m=\u001b[0m\u001b[0;34m{\u001b[0m\u001b[0mx\u001b[0m\u001b[0;34m:\u001b[0m\u001b[0mtrain_data\u001b[0m\u001b[0;34m[\u001b[0m\u001b[0;36m0\u001b[0m\u001b[0;34m]\u001b[0m\u001b[0;34m.\u001b[0m\u001b[0meval\u001b[0m\u001b[0;34m(\u001b[0m\u001b[0;34m)\u001b[0m\u001b[0;34m,\u001b[0m \u001b[0my\u001b[0m\u001b[0;34m:\u001b[0m\u001b[0mtrain_data\u001b[0m\u001b[0;34m[\u001b[0m\u001b[0;36m1\u001b[0m\u001b[0;34m]\u001b[0m\u001b[0;34m.\u001b[0m\u001b[0meval\u001b[0m\u001b[0;34m(\u001b[0m\u001b[0;34m)\u001b[0m\u001b[0;34m}\u001b[0m\u001b[0;34m)\u001b[0m\u001b[0;34m\u001b[0m\u001b[0m\n\u001b[0m\u001b[1;32m     21\u001b[0m \u001b[0;34m\u001b[0m\u001b[0m\n\u001b[1;32m     22\u001b[0m             \u001b[0;32mif\u001b[0m \u001b[0mi\u001b[0m\u001b[0;34m%\u001b[0m\u001b[0;36m20\u001b[0m\u001b[0;34m==\u001b[0m\u001b[0;36m0\u001b[0m\u001b[0;34m:\u001b[0m\u001b[0;34m\u001b[0m\u001b[0m\n",
      "\u001b[0;32m/anaconda3/lib/python3.6/site-packages/tensorflow/python/client/session.py\u001b[0m in \u001b[0;36mrun\u001b[0;34m(self, fetches, feed_dict, options, run_metadata)\u001b[0m\n\u001b[1;32m    903\u001b[0m     \u001b[0;32mtry\u001b[0m\u001b[0;34m:\u001b[0m\u001b[0;34m\u001b[0m\u001b[0m\n\u001b[1;32m    904\u001b[0m       result = self._run(None, fetches, feed_dict, options_ptr,\n\u001b[0;32m--> 905\u001b[0;31m                          run_metadata_ptr)\n\u001b[0m\u001b[1;32m    906\u001b[0m       \u001b[0;32mif\u001b[0m \u001b[0mrun_metadata\u001b[0m\u001b[0;34m:\u001b[0m\u001b[0;34m\u001b[0m\u001b[0m\n\u001b[1;32m    907\u001b[0m         \u001b[0mproto_data\u001b[0m \u001b[0;34m=\u001b[0m \u001b[0mtf_session\u001b[0m\u001b[0;34m.\u001b[0m\u001b[0mTF_GetBuffer\u001b[0m\u001b[0;34m(\u001b[0m\u001b[0mrun_metadata_ptr\u001b[0m\u001b[0;34m)\u001b[0m\u001b[0;34m\u001b[0m\u001b[0m\n",
      "\u001b[0;32m/anaconda3/lib/python3.6/site-packages/tensorflow/python/client/session.py\u001b[0m in \u001b[0;36m_run\u001b[0;34m(self, handle, fetches, feed_dict, options, run_metadata)\u001b[0m\n\u001b[1;32m   1135\u001b[0m     \u001b[0;32mif\u001b[0m \u001b[0mfinal_fetches\u001b[0m \u001b[0;32mor\u001b[0m \u001b[0mfinal_targets\u001b[0m \u001b[0;32mor\u001b[0m \u001b[0;34m(\u001b[0m\u001b[0mhandle\u001b[0m \u001b[0;32mand\u001b[0m \u001b[0mfeed_dict_tensor\u001b[0m\u001b[0;34m)\u001b[0m\u001b[0;34m:\u001b[0m\u001b[0;34m\u001b[0m\u001b[0m\n\u001b[1;32m   1136\u001b[0m       results = self._do_run(handle, final_targets, final_fetches,\n\u001b[0;32m-> 1137\u001b[0;31m                              feed_dict_tensor, options, run_metadata)\n\u001b[0m\u001b[1;32m   1138\u001b[0m     \u001b[0;32melse\u001b[0m\u001b[0;34m:\u001b[0m\u001b[0;34m\u001b[0m\u001b[0m\n\u001b[1;32m   1139\u001b[0m       \u001b[0mresults\u001b[0m \u001b[0;34m=\u001b[0m \u001b[0;34m[\u001b[0m\u001b[0;34m]\u001b[0m\u001b[0;34m\u001b[0m\u001b[0m\n",
      "\u001b[0;32m/anaconda3/lib/python3.6/site-packages/tensorflow/python/client/session.py\u001b[0m in \u001b[0;36m_do_run\u001b[0;34m(self, handle, target_list, fetch_list, feed_dict, options, run_metadata)\u001b[0m\n\u001b[1;32m   1353\u001b[0m     \u001b[0;32mif\u001b[0m \u001b[0mhandle\u001b[0m \u001b[0;32mis\u001b[0m \u001b[0;32mNone\u001b[0m\u001b[0;34m:\u001b[0m\u001b[0;34m\u001b[0m\u001b[0m\n\u001b[1;32m   1354\u001b[0m       return self._do_call(_run_fn, self._session, feeds, fetches, targets,\n\u001b[0;32m-> 1355\u001b[0;31m                            options, run_metadata)\n\u001b[0m\u001b[1;32m   1356\u001b[0m     \u001b[0;32melse\u001b[0m\u001b[0;34m:\u001b[0m\u001b[0;34m\u001b[0m\u001b[0m\n\u001b[1;32m   1357\u001b[0m       \u001b[0;32mreturn\u001b[0m \u001b[0mself\u001b[0m\u001b[0;34m.\u001b[0m\u001b[0m_do_call\u001b[0m\u001b[0;34m(\u001b[0m\u001b[0m_prun_fn\u001b[0m\u001b[0;34m,\u001b[0m \u001b[0mself\u001b[0m\u001b[0;34m.\u001b[0m\u001b[0m_session\u001b[0m\u001b[0;34m,\u001b[0m \u001b[0mhandle\u001b[0m\u001b[0;34m,\u001b[0m \u001b[0mfeeds\u001b[0m\u001b[0;34m,\u001b[0m \u001b[0mfetches\u001b[0m\u001b[0;34m)\u001b[0m\u001b[0;34m\u001b[0m\u001b[0m\n",
      "\u001b[0;32m/anaconda3/lib/python3.6/site-packages/tensorflow/python/client/session.py\u001b[0m in \u001b[0;36m_do_call\u001b[0;34m(self, fn, *args)\u001b[0m\n\u001b[1;32m   1359\u001b[0m   \u001b[0;32mdef\u001b[0m \u001b[0m_do_call\u001b[0m\u001b[0;34m(\u001b[0m\u001b[0mself\u001b[0m\u001b[0;34m,\u001b[0m \u001b[0mfn\u001b[0m\u001b[0;34m,\u001b[0m \u001b[0;34m*\u001b[0m\u001b[0margs\u001b[0m\u001b[0;34m)\u001b[0m\u001b[0;34m:\u001b[0m\u001b[0;34m\u001b[0m\u001b[0m\n\u001b[1;32m   1360\u001b[0m     \u001b[0;32mtry\u001b[0m\u001b[0;34m:\u001b[0m\u001b[0;34m\u001b[0m\u001b[0m\n\u001b[0;32m-> 1361\u001b[0;31m       \u001b[0;32mreturn\u001b[0m \u001b[0mfn\u001b[0m\u001b[0;34m(\u001b[0m\u001b[0;34m*\u001b[0m\u001b[0margs\u001b[0m\u001b[0;34m)\u001b[0m\u001b[0;34m\u001b[0m\u001b[0m\n\u001b[0m\u001b[1;32m   1362\u001b[0m     \u001b[0;32mexcept\u001b[0m \u001b[0merrors\u001b[0m\u001b[0;34m.\u001b[0m\u001b[0mOpError\u001b[0m \u001b[0;32mas\u001b[0m \u001b[0me\u001b[0m\u001b[0;34m:\u001b[0m\u001b[0;34m\u001b[0m\u001b[0m\n\u001b[1;32m   1363\u001b[0m       \u001b[0mmessage\u001b[0m \u001b[0;34m=\u001b[0m \u001b[0mcompat\u001b[0m\u001b[0;34m.\u001b[0m\u001b[0mas_text\u001b[0m\u001b[0;34m(\u001b[0m\u001b[0me\u001b[0m\u001b[0;34m.\u001b[0m\u001b[0mmessage\u001b[0m\u001b[0;34m)\u001b[0m\u001b[0;34m\u001b[0m\u001b[0m\n",
      "\u001b[0;32m/anaconda3/lib/python3.6/site-packages/tensorflow/python/client/session.py\u001b[0m in \u001b[0;36m_run_fn\u001b[0;34m(session, feed_dict, fetch_list, target_list, options, run_metadata)\u001b[0m\n\u001b[1;32m   1338\u001b[0m         \u001b[0;32melse\u001b[0m\u001b[0;34m:\u001b[0m\u001b[0;34m\u001b[0m\u001b[0m\n\u001b[1;32m   1339\u001b[0m           return tf_session.TF_Run(session, options, feed_dict, fetch_list,\n\u001b[0;32m-> 1340\u001b[0;31m                                    target_list, status, run_metadata)\n\u001b[0m\u001b[1;32m   1341\u001b[0m \u001b[0;34m\u001b[0m\u001b[0m\n\u001b[1;32m   1342\u001b[0m     \u001b[0;32mdef\u001b[0m \u001b[0m_prun_fn\u001b[0m\u001b[0;34m(\u001b[0m\u001b[0msession\u001b[0m\u001b[0;34m,\u001b[0m \u001b[0mhandle\u001b[0m\u001b[0;34m,\u001b[0m \u001b[0mfeed_dict\u001b[0m\u001b[0;34m,\u001b[0m \u001b[0mfetch_list\u001b[0m\u001b[0;34m)\u001b[0m\u001b[0;34m:\u001b[0m\u001b[0;34m\u001b[0m\u001b[0m\n",
      "\u001b[0;31mKeyboardInterrupt\u001b[0m: "
     ]
    }
   ],
   "source": [
    "# setup the initialisation operator\n",
    "init_op = (tf.global_variables_initializer(), tf.local_variables_initializer())\n",
    "\n",
    "merged_summary=tf.summary.merge_all()\n",
    "\n",
    "with tf.Session() as sess:\n",
    "    sess.run(init_op)\n",
    "    coord = tf.train.Coordinator()\n",
    "    threads = tf.train.start_queue_runners(coord=coord)\n",
    "    \n",
    "    # Set writer to write summaries into tensorboard\n",
    "    writer=tf.summary.FileWriter('./Graph/genre_classfication_crossentropy_try5', graph=sess.graph)\n",
    "    \n",
    "    print('Training started...')\n",
    "    for epoch in range(epochs):\n",
    "        print('Epoch: ',(epoch+1))\n",
    "        avg_cost=0\n",
    "        total_batch=int(7622/batch_size)\n",
    "        \n",
    "        for i in range(total_batch):\n",
    "            sess.run(optimizer, feed_dict={x:train_data[0].eval(), y:train_data[1].eval()})      \n",
    "            \n",
    "            if i%20==0:\n",
    "                l,s, acc= sess.run([loss,merged_summary,accuracy], feed_dict={x:train_data[0].eval(), y:train_data[1].eval()})\n",
    "                writer.add_summary(s,epoch*total_batch+i)\n",
    "                print('Step: ',i, ' loss: ', l, 'train accuracy: ', acc)\n",
    "                avg_cost += l/total_batch*20\n",
    "                \n",
    "        print(\"\\nEpoch:\", (epoch + 1), \"cost =\", \"{:.3f}\".format(avg_cost))\n",
    "\n",
    "    print(\"\\nTraining complete!\")\n",
    "    \n",
    "    coord.request_stop()\n",
    "    coord.join(threads)"
   ]
  },
  {
   "cell_type": "markdown",
   "metadata": {},
   "source": [
    "**Next we're going to do transfer learning using the pretrained Inception_V3 model.**\n",
    "<p>STEPS<p/>\n",
    "1. load inception_v3 model, keep the pretrained weights and remove top layers.\n",
    "2. Create layer dictionary of layers in the model"
   ]
  },
  {
   "cell_type": "code",
   "execution_count": 10,
   "metadata": {
    "collapsed": true
   },
   "outputs": [],
   "source": [
    "# load inception_v3 model, keep the pretrained weights and remove top layers.\n",
    "incp3=tf.keras.applications.InceptionV3(include_top=False,\n",
    "                                        weights='imagenet',\n",
    "                                        input_shape=(img_w,img_h,3),\n",
    "                                        classes=7)"
   ]
  },
  {
   "cell_type": "code",
   "execution_count": 11,
   "metadata": {
    "collapsed": true
   },
   "outputs": [],
   "source": [
    "# Create layer dictionary of layers in the model\n",
    "layer_dict = dict([(layer.name, layer) for layer in incp3.layers[1:]])"
   ]
  },
  {
   "cell_type": "markdown",
   "metadata": {},
   "source": [
    "**Define metrics and optimizer.**\n",
    "<p> Add customized top layers for inception model<p/>\n",
    "<p> The output of the truncated inception model is (batch_size,5,5,2048)<p/>\n",
    "<p> Let's add a global max pooling layer on top of it, which can be implemented in tensorflow as below. Then flatten it.<p/>"
   ]
  },
  {
   "cell_type": "code",
   "execution_count": 12,
   "metadata": {
    "collapsed": true
   },
   "outputs": [],
   "source": [
    "targets=tf.placeholder(dtype=tf.float32,shape=[None,7],name='targets')\n",
    "\n",
    "# Add customized top layers for inception model\n",
    "# The output of the truncated inception model is (batch_size,5,5,2048)\n",
    "# Let's add a global max pooling layer on top of it, which can be implemented in tensorflow as below. Then flatten it.\n",
    "top_dense=tf.layers.flatten(tf.layers.max_pooling2d(incp3.outputs[0],(5,5),(5,5),padding='valid'))\n",
    "\n",
    "# Put the flattened tensor through a dence layer to get a 1-D vector of length 7, which is also the prediction of our model.\n",
    "predictions=tf.layers.dense(top_dense,7)\n",
    "\n",
    "# Define loss function\n",
    "loss_incp3=tf.reduce_mean(tf.nn.sigmoid_cross_entropy_with_logits(logits=predictions,labels=targets))\n",
    "\n",
    "# Define optimizer\n",
    "optimizer_incp3=tf.train.AdadeltaOptimizer().minimize(loss_incp3)\n",
    "\n",
    "# Define accuracies\n",
    "train_acc_incp3=tf.reduce_mean(tf.cast(tf.equal(tf.argmax(predictions,1), tf.argmax(targets,1)),dtype=tf.float32),name='incp3_acc')\n",
    "test_acc_incp3=tf.reduce_mean(tf.cast(tf.equal(\n",
    "                                        tf.argmax(predictions,1),\n",
    "                                        tf.argmax(targets,1)), \n",
    "                                        dtype=tf.float32),  name='test_acc')"
   ]
  },
  {
   "cell_type": "code",
   "execution_count": 13,
   "metadata": {
    "collapsed": true
   },
   "outputs": [],
   "source": [
    "# Define all summaries we want to write into tensorboard\n",
    "\n",
    "tf.summary.scalar('loss',loss_incp3)\n",
    "tf.summary.scalar('acc',train_acc_incp3)\n",
    "\n",
    "# Visualize output of all mixed layers\n",
    "tf.summary.image('raw_input',incp3.input)\n",
    "for i in range(9):\n",
    "    layer_name='mixed'+str(i+1)\n",
    "    tf.summary.image(name=layer_name+'_output',tensor=tf.expand_dims(layer_dict[layer_name].output[:,:,:,0],axis=-1))\n",
    "    \n",
    "# Merge all summaries above\n",
    "merged_summary=tf.summary.merge_all()"
   ]
  },
  {
   "cell_type": "markdown",
   "metadata": {},
   "source": [
    "**Training the Inception model.**<br/>\n",
    "<p>Steps to open tensorboard:<p/>\n",
    "\t1. Type in\n",
    "```\n",
    "tensorboard --logdir ./Genre_classification\n",
    "```\n",
    "    in a terminal or CMD<br/>\n",
    "\t2. Open up a browser and go to 'localhost:6006'"
   ]
  },
  {
   "cell_type": "code",
   "execution_count": null,
   "metadata": {
    "collapsed": true
   },
   "outputs": [],
   "source": [
    "# Initialize graph\n",
    "init_op = (tf.global_variables_initializer(), tf.local_variables_initializer())\n",
    "\n",
    "\n",
    "with tf.Session() as sess:\n",
    "    sess.run(init_op)\n",
    "    coord = tf.train.Coordinator()\n",
    "    threads = tf.train.start_queue_runners(coord=coord)\n",
    "    \n",
    "    # Setup a filewriter\n",
    "    writer=tf.summary.FileWriter('./Genre_classification/try_7_fix_some_issues', graph=sess.graph)\n",
    "    \n",
    "    print('Training started...')\n",
    "    \n",
    "    # Each epoch\n",
    "    for epoch in range(epochs):\n",
    "        print('Epoch: ',(epoch+1))\n",
    "        avg_cost=0\n",
    "        total_batch=int(7622/batch_size)\n",
    "        \n",
    "        # Each step\n",
    "        for i in range(total_batch):\n",
    "            # Run optimizer\n",
    "            sess.run(optimizer_incp3, \n",
    "                     feed_dict={incp3.input:train_data[0].eval(), targets:train_data[1].eval()})      \n",
    "            \n",
    "            # write summary every 10 steps\n",
    "            if i%10==0:\n",
    "                l,s, acc= sess.run([loss_incp3,merged_summary,train_acc_incp3], \n",
    "                                   feed_dict={incp3.input:train_data[0].eval(), targets:train_data[1].eval()})\n",
    "                writer.add_summary(s,epoch*total_batch+i)\n",
    "                print('Step: ',i, ' loss: ', l, ' train accuracy: ', acc)\n",
    "        \n",
    "        # Test on test set after each epoch \n",
    "        writer.add_summary(sess.run(tf.summary.scalar('test_acc', test_acc_incp3),\n",
    "                                    feed_dict={incp3.input:test_data[0].eval(), targets:test_data[1].eval()}))\n",
    "        print(\"\\nEpoch:\", (epoch + 1), \"cost =\", \"{:.3f}\".format(avg_cost))\n",
    "        \n",
    "    print(\"\\nTraining complete!\")\n",
    "    \n",
    "    coord.request_stop()\n",
    "    coord.join(threads)"
   ]
  },
  {
   "cell_type": "code",
   "execution_count": null,
   "metadata": {
    "collapsed": true
   },
   "outputs": [],
   "source": [
    "incp3.save('./saved_model.h5')"
   ]
  },
  {
   "cell_type": "markdown",
   "metadata": {},
   "source": [
    "# License\n",
    "This project is licensed under the MIT License - see the file [LICENSE.md](https://github.com/qiuminzhang/discogs_scrapy/blob/master/LICENSE) for details\n",
    "\n",
    "# Citation\n",
    "This project uses licensed open source python framework Scrapy - see the file [LICENSE.md](https://github.com/scrapy/scrapy/blob/master/LICENSE) for details.\n",
    "\n",
    "For keras built-in Inception_v3 model, please refer to this https://keras.io/applications/#inceptionv3"
   ]
  }
 ],
 "metadata": {
  "kernelspec": {
   "display_name": "Python 3",
   "language": "python",
   "name": "python3"
  },
  "language_info": {
   "codemirror_mode": {
    "name": "ipython",
    "version": 3
   },
   "file_extension": ".py",
   "mimetype": "text/x-python",
   "name": "python",
   "nbconvert_exporter": "python",
   "pygments_lexer": "ipython3",
   "version": "3.6.2"
  }
 },
 "nbformat": 4,
 "nbformat_minor": 1
}
